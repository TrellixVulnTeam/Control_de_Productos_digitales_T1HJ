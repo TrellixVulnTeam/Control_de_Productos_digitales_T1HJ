{
 "cells": [
  {
   "cell_type": "code",
   "execution_count": 35,
   "metadata": {},
   "outputs": [
    {
     "name": "stdout",
     "output_type": "stream",
     "text": [
      "Requirement already satisfied: control in c:\\dev\\control_clase3\\venv\\lib\\site-packages (0.8.2)\n",
      "Requirement already satisfied: matplotlib in c:\\dev\\control_clase3\\venv\\lib\\site-packages (from control) (3.1.1)\n",
      "Requirement already satisfied: numpy in c:\\dev\\control_clase3\\venv\\lib\\site-packages (from control) (1.17.0)\n",
      "Requirement already satisfied: scipy in c:\\dev\\control_clase3\\venv\\lib\\site-packages (from control) (1.3.0)\n",
      "Requirement already satisfied: pyparsing!=2.0.4,!=2.1.2,!=2.1.6,>=2.0.1 in c:\\dev\\control_clase3\\venv\\lib\\site-packages (from matplotlib->control) (2.4.2)\n",
      "Requirement already satisfied: python-dateutil>=2.1 in c:\\dev\\control_clase3\\venv\\lib\\site-packages (from matplotlib->control) (2.8.0)\n",
      "Requirement already satisfied: cycler>=0.10 in c:\\dev\\control_clase3\\venv\\lib\\site-packages (from matplotlib->control) (0.10.0)\n",
      "Requirement already satisfied: kiwisolver>=1.0.1 in c:\\dev\\control_clase3\\venv\\lib\\site-packages (from matplotlib->control) (1.1.0)\n",
      "Requirement already satisfied: six>=1.5 in c:\\dev\\control_clase3\\venv\\lib\\site-packages (from python-dateutil>=2.1->matplotlib->control) (1.12.0)\n",
      "Requirement already satisfied: setuptools in c:\\dev\\control_clase3\\venv\\lib\\site-packages (from kiwisolver>=1.0.1->matplotlib->control) (41.0.1)\n"
     ]
    }
   ],
   "source": [
    "!pip install control \n",
    "from IPython.core.interactiveshell import InteractiveShell\n",
    "InteractiveShell.ast_node_interactivity = \"all\""
   ]
  },
  {
   "cell_type": "markdown",
   "metadata": {},
   "source": [
    "# Modelizado\n",
    "\n",
    "Modelizar un sistema es generar una representación matemática de este, entendiendolo como una relación entre una serie de entradas y una serie de salidas.\n",
    "\n",
    "Para modelizar un sistema vamos a utilizar diferentes formas entre ellas estan:\n",
    "\n",
    "- Ecuación diferencial.\n",
    "- Diagrama de bloques.\n",
    "- Función de transferencia. \n",
    "\n",
    "De estas una de la formas más utiles en control es la función de transferencia. Para encontrar esta podemos hacerlo de manera teórica utilizando la transformada de Laplace o Podemos hacerlo de una manera más interactiva partiendo de la _ecuación diferencial_ en donde despejaremos la derivada más grande de cada ecuación y luego construimos un diagrama de bloques. \n",
    "\n",
    "Una vez tenemos el diagrama de bloque tomamos los bloques que tiene integrales y los pasamos al dominio de Laplace\n",
    "\n",
    "$$\\int dt \\to \\frac{1}{s}$$\n",
    "\n",
    "## Sistema masa resorte amortiguador\n",
    "\n",
    "Para comenzar utilicemos un modelo de masa-resorte (masa $m$ y resorte $k$) con una fuerza external de entrada $F$. El modelo de este sistema se puede encontrar utilizando el principio fundemental de la dinámica que dicta que la sumatoria de fuerza es igual a la masa por la aceleración.\n",
    "\n",
    "$$F-k\\, x=m\\, a$$\n",
    "\n",
    "Recordemos que la aceleración $a$ es la segunda derivada de la posición $x$, de ahí.\n",
    "\n",
    "$$F-k\\, x=m\\, \\frac{d^2x}{dt^2}$$\n",
    "\n",
    "Una vez tenemos el modelo del sistema como una función de transferencia, podemos escribir el modelo como un diagrama de bloques. Para lograrlo, debemos despejar la derivada más grande. \n",
    "\n",
    "$$\\frac{d^2x}{dt^2} = \\frac{1}{m} (F-k\\, x)$$\n",
    "\n",
    "Esta equación puede ser descrita por un diagrama de bloques. \n",
    "\n",
    "$$F \\to + \\to \\boxed{\\frac{1}{m}}\\to\\boxed{\\frac{1}{s}}\\to\\boxed{\\frac{1}{s}}\\to x$$\n",
    "\n",
    "La posición realimenta al nodo de suma a traves de $k$\n",
    "\n",
    "$$x \\to \\boxed{k} \\to - $$\n",
    "\n",
    "### Función de transferencia\n",
    "\n",
    "La función de transferencia puede ser encontrada utilizando el paquete de control de **Python**."
   ]
  },
  {
   "cell_type": "code",
   "execution_count": 27,
   "metadata": {},
   "outputs": [],
   "source": [
    "from matplotlib.pyplot import plot\n",
    "from control import *\n",
    "%matplotlib inline"
   ]
  },
  {
   "cell_type": "markdown",
   "metadata": {},
   "source": [
    "Primero definimos los bloques del sistema"
   ]
  },
  {
   "cell_type": "code",
   "execution_count": 28,
   "metadata": {},
   "outputs": [],
   "source": [
    "m = 4\n",
    "k = 5"
   ]
  },
  {
   "cell_type": "code",
   "execution_count": 29,
   "metadata": {},
   "outputs": [],
   "source": [
    "invM = tf(1,m)\n",
    "integral = tf(1,[1,0])\n",
    "spring = tf(k,1)"
   ]
  },
  {
   "cell_type": "markdown",
   "metadata": {},
   "source": [
    "Con estos bloques podemos reconstruir el diagrama de bloques y construir la función de transferencia entre la salida y la entrada.\n",
    "\n",
    "Empecemos construyendo la función de transferencia del primer lazo, esto se puede hacer por dos metodos:"
   ]
  },
  {
   "cell_type": "code",
   "execution_count": 30,
   "metadata": {},
   "outputs": [],
   "source": [
    "G = invM * integral * integral\n",
    "G2 = series(invM, integral, integral)"
   ]
  },
  {
   "cell_type": "markdown",
   "metadata": {},
   "source": [
    "Que producen el mismo resultado"
   ]
  },
  {
   "cell_type": "code",
   "execution_count": 31,
   "metadata": {},
   "outputs": [
    {
     "data": {
      "text/latex": [
       "$$\\frac{1}{4 s^2}$$"
      ],
      "text/plain": [
       "\n",
       "  1\n",
       "-----\n",
       "4 s^2"
      ]
     },
     "execution_count": 31,
     "metadata": {},
     "output_type": "execute_result"
    }
   ],
   "source": [
    "G\n",
    "G2"
   ]
  },
  {
   "cell_type": "markdown",
   "metadata": {},
   "source": [
    "Ahora podemos incluir el lazo cerrado en el sistema. "
   ]
  },
  {
   "cell_type": "code",
   "execution_count": 32,
   "metadata": {},
   "outputs": [],
   "source": [
    "XF = feedback(G,spring)"
   ]
  },
  {
   "cell_type": "code",
   "execution_count": 33,
   "metadata": {},
   "outputs": [
    {
     "data": {
      "text/latex": [
       "$$\\frac{1}{4 s^2 + 5}$$"
      ],
      "text/plain": [
       "\n",
       "    1\n",
       "---------\n",
       "4 s^2 + 5"
      ]
     },
     "execution_count": 33,
     "metadata": {},
     "output_type": "execute_result"
    }
   ],
   "source": [
    "XF"
   ]
  },
  {
   "cell_type": "code",
   "execution_count": 34,
   "metadata": {},
   "outputs": [],
   "source": [
    "T2,yout2 = step_response(G)"
   ]
  },
  {
   "cell_type": "code",
   "execution_count": 35,
   "metadata": {},
   "outputs": [
    {
     "data": {
      "text/plain": [
       "[<matplotlib.lines.Line2D at 0x6503190>]"
      ]
     },
     "execution_count": 35,
     "metadata": {},
     "output_type": "execute_result"
    },
    {
     "data": {
      "image/png": "[encoded data removed]",
      "text/plain": [
       "<Figure size 432x288 with 1 Axes>"
      ]
     },
     "metadata": {
      "needs_background": "light"
     },
     "output_type": "display_data"
    }
   ],
   "source": [
    "plot(T2,yout2)"
   ]
  },
  {
   "cell_type": "markdown",
   "metadata": {},
   "source": [
    "## Ejercicios\n",
    "\n",
    "Encontrar la función de transferencia de :\n",
    "\n",
    "- Un sistema masa-resorte-amortiguador\n",
    "- Un sistema de tanque con caudal de entrada (como entrada), caudal de salida con caida atmosferica, y la altura $h$ como salida."
   ]
  },
  {
   "cell_type": "markdown",
   "metadata": {},
   "source": [
    "## Masa resorte amortiguador"
   ]
  },
  {
   "cell_type": "markdown",
   "metadata": {},
   "source": [
    "from control import *"
   ]
  },
  {
   "cell_type": "code",
   "execution_count": 36,
   "metadata": {},
   "outputs": [],
   "source": [
    "from matplotlib.pyplot import plot\n",
    "from control import *\n",
    "%matplotlib inline"
   ]
  },
  {
   "cell_type": "markdown",
   "metadata": {},
   "source": [
    "Definicion de variables"
   ]
  },
  {
   "cell_type": "code",
   "execution_count": 37,
   "metadata": {},
   "outputs": [],
   "source": [
    "m = 4\n",
    "k = 5\n",
    "C = 3"
   ]
  },
  {
   "cell_type": "code",
   "execution_count": 38,
   "metadata": {},
   "outputs": [],
   "source": [
    "invM = tf(1,m)\n",
    "integral = tf(1,[1,0])\n",
    "spring = tf(k,1)\n",
    "spring2 = tf(C,1)"
   ]
  },
  {
   "cell_type": "markdown",
   "metadata": {},
   "source": [
    "Con estos bloques podemos reconstruir el diagrama de bloques y construir la función de transferencia entre la salida y la entrada."
   ]
  },
  {
   "cell_type": "code",
   "execution_count": 39,
   "metadata": {},
   "outputs": [],
   "source": [
    "G3 = series(invM, integral)\n",
    "G4 = feedback(G3, spring2)\n",
    "G5 = series(G4, integral)\n",
    "G6 = feedback(G5, spring)"
   ]
  },
  {
   "cell_type": "markdown",
   "metadata": {},
   "source": [
    "Imprimo la funcion de transferencia final"
   ]
  },
  {
   "cell_type": "code",
   "execution_count": 40,
   "metadata": {},
   "outputs": [
    {
     "data": {
      "text/latex": [
       "$$\\frac{1}{4 s^2 + 3 s + 5}$$"
      ],
      "text/plain": [
       "\n",
       "       1\n",
       "---------------\n",
       "4 s^2 + 3 s + 5"
      ]
     },
     "execution_count": 40,
     "metadata": {},
     "output_type": "execute_result"
    }
   ],
   "source": [
    "G6\n"
   ]
  },
  {
   "cell_type": "code",
   "execution_count": 41,
   "metadata": {},
   "outputs": [],
   "source": [
    "T,yout = step_response(G6)"
   ]
  },
  {
   "cell_type": "code",
   "execution_count": 42,
   "metadata": {},
   "outputs": [
    {
     "data": {
      "text/plain": [
       "[<matplotlib.lines.Line2D at 0x65448f0>]"
      ]
     },
     "execution_count": 42,
     "metadata": {},
     "output_type": "execute_result"
    },
    {
     "data": {
      "image/png": "[encoded data removed]",
      "text/plain": [
       "<Figure size 432x288 with 1 Axes>"
      ]
     },
     "metadata": {
      "needs_background": "light"
     },
     "output_type": "display_data"
    }
   ],
   "source": [
    "plot(T,yout)"
   ]
  },
  {
   "cell_type": "markdown",
   "metadata": {},
   "source": [
    "## Tanque con caudal de entrada (como entrada), caudal de salida con caida atmosferica, y la altura"
   ]
  },
  {
   "cell_type": "code",
   "execution_count": 43,
   "metadata": {},
   "outputs": [],
   "source": [
    "from matplotlib.pyplot import plot\n",
    "from control import *\n",
    "%matplotlib inline"
   ]
  },
  {
   "cell_type": "markdown",
   "metadata": {},
   "source": [
    "Definicion de variables"
   ]
  },
  {
   "cell_type": "code",
   "execution_count": 44,
   "metadata": {},
   "outputs": [],
   "source": [
    "A = 4\n",
    "R = 5"
   ]
  },
  {
   "cell_type": "markdown",
   "metadata": {},
   "source": [
    "Elaboro las formulas"
   ]
  },
  {
   "cell_type": "code",
   "execution_count": 45,
   "metadata": {},
   "outputs": [],
   "source": [
    "invM = tf(1,A)\n",
    "integral = tf(1,[1,0])\n",
    "spring = tf(1,R)"
   ]
  },
  {
   "cell_type": "markdown",
   "metadata": {},
   "source": [
    "Elaboro el sistema de control del tanque"
   ]
  },
  {
   "cell_type": "code",
   "execution_count": 46,
   "metadata": {},
   "outputs": [],
   "source": [
    "G7 = series(invM, integral)\n",
    "G8 = feedback(G7, spring)"
   ]
  },
  {
   "cell_type": "markdown",
   "metadata": {},
   "source": [
    "Imprimo la funcion de control final"
   ]
  },
  {
   "cell_type": "code",
   "execution_count": 47,
   "metadata": {},
   "outputs": [
    {
     "data": {
      "text/latex": [
       "$$\\frac{5}{20 s + 1}$$"
      ],
      "text/plain": [
       "\n",
       "    5\n",
       "--------\n",
       "20 s + 1"
      ]
     },
     "execution_count": 47,
     "metadata": {},
     "output_type": "execute_result"
    }
   ],
   "source": [
    "G8"
   ]
  },
  {
   "cell_type": "code",
   "execution_count": 48,
   "metadata": {},
   "outputs": [],
   "source": [
    "T3,yout3 = step_response(G8)"
   ]
  },
  {
   "cell_type": "code",
   "execution_count": 49,
   "metadata": {},
   "outputs": [
    {
     "data": {
      "text/plain": [
       "[<matplotlib.lines.Line2D at 0x657ff90>]"
      ]
     },
     "execution_count": 49,
     "metadata": {},
     "output_type": "execute_result"
    },
    {
     "data": {
      "image/png": "[encoded data removed]",
      "text/plain": [
       "<Figure size 432x288 with 1 Axes>"
      ]
     },
     "metadata": {
      "needs_background": "light"
     },
     "output_type": "display_data"
    }
   ],
   "source": [
    "plot(T3,yout3)"
   ]
  },
  {
   "cell_type": "markdown",
   "metadata": {},
   "source": [
    "## SISTEMA DE PRIMER ORDEN"
   ]
  },
  {
   "cell_type": "code",
   "execution_count": 50,
   "metadata": {},
   "outputs": [],
   "source": [
    "from matplotlib.pyplot import plot\n",
    "from control import *\n",
    "%matplotlib inline"
   ]
  },
  {
   "cell_type": "markdown",
   "metadata": {},
   "source": [
    "gama es ganancia tau es la constante de tiempo en segundos"
   ]
  },
  {
   "cell_type": "code",
   "execution_count": 73,
   "metadata": {},
   "outputs": [],
   "source": [
    "gama = 100\n",
    "tau = 10"
   ]
  },
  {
   "cell_type": "code",
   "execution_count": 74,
   "metadata": {},
   "outputs": [
    {
     "data": {
      "text/latex": [
       "$$\\frac{100}{10 s + 1}$$"
      ],
      "text/plain": [
       "\n",
       "  100\n",
       "--------\n",
       "10 s + 1"
      ]
     },
     "execution_count": 74,
     "metadata": {},
     "output_type": "execute_result"
    }
   ],
   "source": [
    "PO = tf([gama],[tau,1])\n",
    "PO"
   ]
  },
  {
   "cell_type": "code",
   "execution_count": 75,
   "metadata": {},
   "outputs": [],
   "source": [
    "T4,yout4 = step_response(PO)\n",
    "T9,yout9 = impulse_response(PO)"
   ]
  },
  {
   "cell_type": "code",
   "execution_count": 76,
   "metadata": {},
   "outputs": [
    {
     "data": {
      "text/plain": [
       "[<matplotlib.lines.Line2D at 0x5640570>]"
      ]
     },
     "execution_count": 76,
     "metadata": {},
     "output_type": "execute_result"
    },
    {
     "data": {
      "image/png": "[encoded data removed]",
      "text/plain": [
       "<Figure size 432x288 with 1 Axes>"
      ]
     },
     "metadata": {
      "needs_background": "light"
     },
     "output_type": "display_data"
    }
   ],
   "source": [
    "plot(T4,yout4)\n",
    "plot(T9,yout9)"
   ]
  },
  {
   "cell_type": "markdown",
   "metadata": {},
   "source": [
    "tou = 63%, 3tou = 95% y 5tou = 99%"
   ]
  },
  {
   "cell_type": "markdown",
   "metadata": {},
   "source": [
    "## SISTEMA DE SEGUNDO ORDEN"
   ]
  },
  {
   "cell_type": "code",
   "execution_count": 55,
   "metadata": {},
   "outputs": [],
   "source": [
    "from matplotlib.pyplot import plot\n",
    "from control import *\n",
    "%matplotlib inline"
   ]
  },
  {
   "cell_type": "markdown",
   "metadata": {},
   "source": [
    "xi es cuanta energia esta perdiendo (amortiguamiento), Omegan varia la frecuencia del sistema"
   ]
  },
  {
   "cell_type": "code",
   "execution_count": 66,
   "metadata": {},
   "outputs": [
    {
     "data": {
      "text/latex": [
       "$$\\frac{100}{s^2 + 0.2 s + 1}$$"
      ],
      "text/plain": [
       "\n",
       "      100\n",
       "---------------\n",
       "s^2 + 0.2 s + 1"
      ]
     },
     "execution_count": 66,
     "metadata": {},
     "output_type": "execute_result"
    }
   ],
   "source": [
    "gama2 = 100\n",
    "omegan = 1\n",
    "xi = 0.1\n",
    "\n",
    "SO = tf([gama2],[1/omegan**2,2*xi/omegan,1])\n",
    "SO"
   ]
  },
  {
   "cell_type": "code",
   "execution_count": 67,
   "metadata": {},
   "outputs": [
    {
     "data": {
      "text/latex": [
       "$$\\frac{100}{s^2 + 1.4 s + 1}$$"
      ],
      "text/plain": [
       "\n",
       "      100\n",
       "---------------\n",
       "s^2 + 1.4 s + 1"
      ]
     },
     "execution_count": 67,
     "metadata": {},
     "output_type": "execute_result"
    }
   ],
   "source": [
    "gama3 = 100\n",
    "omegan2 = 1\n",
    "xi2 = 0.7\n",
    "\n",
    "SO2 = tf([gama3],[1/omegan2**2,2*xi2/omegan2,1])\n",
    "\n",
    "SO2"
   ]
  },
  {
   "cell_type": "code",
   "execution_count": 68,
   "metadata": {},
   "outputs": [
    {
     "data": {
      "text/latex": [
       "$$\\frac{100}{s^2 + 1}$$"
      ],
      "text/plain": [
       "\n",
       "  100\n",
       "-------\n",
       "s^2 + 1"
      ]
     },
     "execution_count": 68,
     "metadata": {},
     "output_type": "execute_result"
    }
   ],
   "source": [
    "gama4 = 100\n",
    "omegan3 = 1\n",
    "xi3 = 0\n",
    "\n",
    "SO3 = tf([gama4],[1/omegan3**2,2*xi3/omegan3,1])\n",
    "\n",
    "SO3"
   ]
  },
  {
   "cell_type": "code",
   "execution_count": 69,
   "metadata": {},
   "outputs": [
    {
     "data": {
      "text/latex": [
       "$$\\frac{1}{s^2 + 1.4 s + 1}$$"
      ],
      "text/plain": [
       "\n",
       "       1\n",
       "---------------\n",
       "s^2 + 1.4 s + 1"
      ]
     },
     "execution_count": 69,
     "metadata": {},
     "output_type": "execute_result"
    }
   ],
   "source": [
    "gama5 = 1\n",
    "omegan4 = 1\n",
    "xi4 = 0.7\n",
    "\n",
    "SO4 = tf([gama5],[1/omegan4**2,2*xi4/omegan4,1])\n",
    "\n",
    "SO4"
   ]
  },
  {
   "cell_type": "code",
   "execution_count": 70,
   "metadata": {},
   "outputs": [
    {
     "data": {
      "text/latex": [
       "$$\\frac{100}{s^2 + 2 s + 1}$$"
      ],
      "text/plain": [
       "\n",
       "     100\n",
       "-------------\n",
       "s^2 + 2 s + 1"
      ]
     },
     "execution_count": 70,
     "metadata": {},
     "output_type": "execute_result"
    }
   ],
   "source": [
    "gama6 = 100\n",
    "omegan5 = 1\n",
    "xi5 = 1\n",
    "\n",
    "SO5 = tf([gama6],[1/omegan5**2,2*xi5/omegan5,1])\n",
    "\n",
    "SO5"
   ]
  },
  {
   "cell_type": "code",
   "execution_count": 72,
   "metadata": {},
   "outputs": [
    {
     "data": {
      "text/plain": [
       "[<matplotlib.lines.Line2D at 0x5610b90>]"
      ]
     },
     "execution_count": 72,
     "metadata": {},
     "output_type": "execute_result"
    },
    {
     "data": {
      "image/png": "[encoded data removed]",
      "text/plain": [
       "<Figure size 432x288 with 1 Axes>"
      ]
     },
     "metadata": {
      "needs_background": "light"
     },
     "output_type": "display_data"
    }
   ],
   "source": [
    "T5,yout5 = step_response(SO)\n",
    "T6,yout6 = step_response(SO2)\n",
    "T7,yout7 = step_response(SO3)\n",
    "T8,yout8 = step_response(SO4)\n",
    "plot(T5,yout5)\n",
    "plot(T6,yout6)\n",
    "plot(T7,yout7)\n",
    "plot(T8,yout8)"
   ]
  },
  {
   "cell_type": "code",
   "execution_count": 86,
   "metadata": {},
   "outputs": [
    {
     "data": {
      "text/latex": [
       "$$\\frac{100}{s^2 + 0.2 s + 1}$$"
      ],
      "text/plain": [
       "\n",
       "      100\n",
       "---------------\n",
       "s^2 + 0.2 s + 1"
      ]
     },
     "execution_count": 86,
     "metadata": {},
     "output_type": "execute_result"
    }
   ],
   "source": [
    "SO"
   ]
  },
  {
   "cell_type": "code",
   "execution_count": 87,
   "metadata": {},
   "outputs": [
    {
     "data": {
      "text/latex": [
       "$$\\frac{100}{10 s + 1}$$"
      ],
      "text/plain": [
       "\n",
       "  100\n",
       "--------\n",
       "10 s + 1"
      ]
     },
     "execution_count": 87,
     "metadata": {},
     "output_type": "execute_result"
    }
   ],
   "source": [
    "tau= 1/(xi*omegan)\n",
    "PO2 = tf([gama2],[tau,1])\n",
    "PO2"
   ]
  },
  {
   "cell_type": "code",
   "execution_count": 88,
   "metadata": {},
   "outputs": [
    {
     "data": {
      "text/plain": [
       "[<matplotlib.lines.Line2D at 0x66e45f0>]"
      ]
     },
     "execution_count": 88,
     "metadata": {},
     "output_type": "execute_result"
    },
    {
     "data": {
      "image/png": "[encoded data removed]",
      "text/plain": [
       "<Figure size 432x288 with 1 Axes>"
      ]
     },
     "metadata": {
      "needs_background": "light"
     },
     "output_type": "display_data"
    }
   ],
   "source": [
    "T10,yout10 = step_response(PO2)\n",
    "plot(T5,yout5)\n",
    "plot(T10,yout10)"
   ]
  },
  {
   "cell_type": "code",
   "execution_count": null,
   "metadata": {},
   "outputs": [],
   "source": []
  }
 ],
 "metadata": {
  "kernelspec": {
   "display_name": "Python 3",
   "language": "python",
   "name": "python3"
  },
  "language_info": {
   "codemirror_mode": {
    "name": "ipython",
    "version": 3
   },
   "file_extension": ".py",
   "mimetype": "text/x-python",
   "name": "python",
   "nbconvert_exporter": "python",
   "pygments_lexer": "ipython3",
   "version": "3.7.4"
  }
 },
 "nbformat": 4,
 "nbformat_minor": 4
}
